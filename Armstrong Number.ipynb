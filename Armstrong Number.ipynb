{
 "cells": [
  {
   "cell_type": "markdown",
   "id": "93f1774e",
   "metadata": {},
   "source": [
    "### Python program to check if the number is an Armstrong number or not\n",
    "-    Input : 153\n",
    "-   Output : Armstrong Number\n",
    "- Solution : \n",
    "              Total digit = n\n",
    "             Sum of Digit = 1^n+5^n+3^n = 1^3+5^3+3^3 =1+125+27 = 153"
   ]
  },
  {
   "cell_type": "code",
   "execution_count": 1,
   "id": "7f050d40",
   "metadata": {},
   "outputs": [
    {
     "name": "stdout",
     "output_type": "stream",
     "text": [
      "Enter a number: 765\n",
      "765 is not an Armstrong number\n"
     ]
    }
   ],
   "source": [
    "# take input from the user\n",
    "num = int(input(\"Enter a number: \"))\n",
    "\n",
    "# initialize sum, order\n",
    "sum = 0\n",
    "order = len(str(num))\n",
    "\n",
    "# find the sum of the cube of each digit\n",
    "temp = num\n",
    "while temp > 0:\n",
    "    digit = temp % 10\n",
    "    sum += digit ** order\n",
    "    temp //= 10\n",
    "\n",
    "# display the result\n",
    "if num == sum:\n",
    "    print(num,\"is an Armstrong number\")\n",
    "else:\n",
    "    print(num,\"is not an Armstrong number\")"
   ]
  },
  {
   "cell_type": "markdown",
   "id": "df098272",
   "metadata": {},
   "source": [
    "### Using Recurrsion"
   ]
  },
  {
   "cell_type": "code",
   "execution_count": 2,
   "id": "ccb9f55a",
   "metadata": {},
   "outputs": [
    {
     "name": "stdout",
     "output_type": "stream",
     "text": [
      "Enter a number :76\n",
      "76 is not an Armstrong number\n"
     ]
    }
   ],
   "source": [
    "def getSum(num):\n",
    "    if num==0:\n",
    "        return num\n",
    "    else:\n",
    "        return pow((num%10), order) + getSum(num//10)\n",
    "\n",
    "num=int(input(\"Enter a number :\"))\n",
    "order=len(str(num))\n",
    "sum=getSum(num)\n",
    "\n",
    "if num == sum:\n",
    "    print(num,\"is an Armstrong number\")\n",
    "else:\n",
    "    print(num,\"is not an Armstrong number\")"
   ]
  },
  {
   "cell_type": "code",
   "execution_count": 1,
   "id": "deff908c",
   "metadata": {},
   "outputs": [
    {
     "name": "stdout",
     "output_type": "stream",
     "text": [
      "Enter Lower Number :1\n",
      "Enter Upper Number :21\n",
      "1\n",
      "2\n",
      "3\n",
      "4\n",
      "5\n",
      "6\n",
      "7\n",
      "8\n",
      "9\n"
     ]
    }
   ],
   "source": [
    "# Program to check Armstrong numbers in a certain interval\n",
    "\n",
    "lower = int(input(\"Enter Lower Number :\"))\n",
    "upper = int(input(\"Enter Upper Number :\"))\n",
    "\n",
    "for num in range(lower, upper + 1):\n",
    "    # order of number\n",
    "    order = len(str(num))\n",
    "    # initialize sum\n",
    "    sum = 0\n",
    "    temp = num\n",
    "    while temp > 0:\n",
    "        digit = temp % 10\n",
    "        sum += digit ** order\n",
    "        temp //= 10\n",
    "    if num == sum:\n",
    "        print(num)"
   ]
  },
  {
   "cell_type": "code",
   "execution_count": 4,
   "id": "ea09b6d7",
   "metadata": {},
   "outputs": [
    {
     "name": "stdout",
     "output_type": "stream",
     "text": [
      "Enter Lower Number :1\n",
      "Enter Upper Number :21\n",
      "1 is an Armstrong number\n",
      "2 is an Armstrong number\n",
      "3 is an Armstrong number\n",
      "4 is an Armstrong number\n",
      "5 is an Armstrong number\n",
      "6 is an Armstrong number\n",
      "7 is an Armstrong number\n",
      "8 is an Armstrong number\n",
      "9 is an Armstrong number\n",
      "10 is not an Armstrong number\n",
      "11 is not an Armstrong number\n",
      "12 is not an Armstrong number\n",
      "13 is not an Armstrong number\n",
      "14 is not an Armstrong number\n",
      "15 is not an Armstrong number\n",
      "16 is not an Armstrong number\n",
      "17 is not an Armstrong number\n",
      "18 is not an Armstrong number\n",
      "19 is not an Armstrong number\n",
      "20 is not an Armstrong number\n",
      "21 is not an Armstrong number\n"
     ]
    }
   ],
   "source": [
    "lower = int(input(\"Enter Lower Number :\"))\n",
    "upper = int(input(\"Enter Upper Number :\"))\n",
    "\n",
    "for num in range(lower, upper + 1):\n",
    "    \n",
    "    def getSum(num):\n",
    "        if num==0:\n",
    "            return num\n",
    "        else:\n",
    "            return pow((num%10), order) + getSum(num//10)\n",
    "    \n",
    "    order=len(str(num))\n",
    "    Sum=getSum(num)\n",
    "    \n",
    "    if num == Sum:\n",
    "        print(num,\"is an Armstrong number\")\n",
    "    else:\n",
    "        print(num,\"is not an Armstrong number\")"
   ]
  },
  {
   "cell_type": "code",
   "execution_count": null,
   "id": "3eb5fa53",
   "metadata": {},
   "outputs": [],
   "source": []
  }
 ],
 "metadata": {
  "kernelspec": {
   "display_name": "Python 3",
   "language": "python",
   "name": "python3"
  },
  "language_info": {
   "codemirror_mode": {
    "name": "ipython",
    "version": 3
   },
   "file_extension": ".py",
   "mimetype": "text/x-python",
   "name": "python",
   "nbconvert_exporter": "python",
   "pygments_lexer": "ipython3",
   "version": "3.8.8"
  }
 },
 "nbformat": 4,
 "nbformat_minor": 5
}
