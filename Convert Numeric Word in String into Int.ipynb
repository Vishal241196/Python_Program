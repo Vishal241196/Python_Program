{
 "cells": [
  {
   "cell_type": "code",
   "execution_count": 3,
   "id": "6d01b1fe",
   "metadata": {},
   "outputs": [
    {
     "name": "stdout",
     "output_type": "stream",
     "text": [
      "The original string is : zero four zero one\n",
      "The string after performing replace : 0\n",
      "The string after performing replace : 4\n",
      "The string after performing replace : 0\n",
      "The string after performing replace : 1\n"
     ]
    }
   ],
   "source": [
    "# Python3 code to demonstrate working of\n",
    "# Convert numeric words to numbers\n",
    "# Using join() + split()\n",
    "\n",
    "help_dict = {\n",
    "    'one': '1',\n",
    "    'two': '2',\n",
    "    'three': '3',\n",
    "    'four': '4',\n",
    "    'five': '5',\n",
    "    'six': '6',\n",
    "    'seven': '7',\n",
    "    'eight': '8',\n",
    "    'nine': '9',\n",
    "    'zero' : '0'\n",
    "}\n",
    "\n",
    "# initializing string\n",
    "test_str = \"zero four zero one\"\n",
    "\n",
    "# printing original string\n",
    "print(\"The original string is : \" + test_str)\n",
    "\n",
    "# Convert numeric words to numbers\n",
    "# Using join() + split()\n",
    "res = ''.join(help_dict[ele] for ele in test_str.split())\n",
    "\n",
    "# printing result\n",
    "print(\"The string after performing replace : \" + res)\n"
   ]
  },
  {
   "cell_type": "code",
   "execution_count": null,
   "id": "06b58489",
   "metadata": {},
   "outputs": [],
   "source": []
  }
 ],
 "metadata": {
  "kernelspec": {
   "display_name": "Python 3",
   "language": "python",
   "name": "python3"
  },
  "language_info": {
   "codemirror_mode": {
    "name": "ipython",
    "version": 3
   },
   "file_extension": ".py",
   "mimetype": "text/x-python",
   "name": "python",
   "nbconvert_exporter": "python",
   "pygments_lexer": "ipython3",
   "version": "3.8.8"
  }
 },
 "nbformat": 4,
 "nbformat_minor": 5
}
