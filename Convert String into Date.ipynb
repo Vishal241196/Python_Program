{
 "cells": [
  {
   "cell_type": "markdown",
   "id": "b99343b1",
   "metadata": {},
   "source": [
    "### Python Program to Convert String to Datetime"
   ]
  },
  {
   "cell_type": "code",
   "execution_count": 18,
   "id": "ed6caa4d",
   "metadata": {},
   "outputs": [
    {
     "name": "stdout",
     "output_type": "stream",
     "text": [
      "<class 'datetime.datetime'>\n",
      "2011-03-11 11:31:00\n"
     ]
    }
   ],
   "source": [
    "from datetime import datetime\n",
    "\n",
    "my_date_string = \"Mar 11 2011 11:31AM\"\n",
    "\n",
    "datetime_object = datetime.strptime(my_date_string, '%b %d %Y %I:%M%p')\n",
    "\n",
    "print(type(datetime_object))\n",
    "print(datetime_object)"
   ]
  },
  {
   "cell_type": "code",
   "execution_count": 19,
   "id": "af0bd171",
   "metadata": {},
   "outputs": [
    {
     "name": "stdout",
     "output_type": "stream",
     "text": [
      "2011-03-11 11:31:00\n",
      "<class 'datetime.datetime'>\n"
     ]
    }
   ],
   "source": [
    "from dateutil import parser\n",
    "\n",
    "date_time = parser.parse(\"Mar 11 2011 11:31AM\")\n",
    "\n",
    "print(date_time)\n",
    "print(type(date_time))"
   ]
  },
  {
   "cell_type": "code",
   "execution_count": null,
   "id": "f6ba1db0",
   "metadata": {},
   "outputs": [],
   "source": []
  }
 ],
 "metadata": {
  "kernelspec": {
   "display_name": "Python 3",
   "language": "python",
   "name": "python3"
  },
  "language_info": {
   "codemirror_mode": {
    "name": "ipython",
    "version": 3
   },
   "file_extension": ".py",
   "mimetype": "text/x-python",
   "name": "python",
   "nbconvert_exporter": "python",
   "pygments_lexer": "ipython3",
   "version": "3.8.8"
  }
 },
 "nbformat": 4,
 "nbformat_minor": 5
}
