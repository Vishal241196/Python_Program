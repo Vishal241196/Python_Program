{
 "cells": [
  {
   "cell_type": "code",
   "execution_count": 4,
   "id": "d768bd53",
   "metadata": {},
   "outputs": [
    {
     "name": "stdout",
     "output_type": "stream",
     "text": [
      "vWXYZiJKstUhabcdeFGlMnopqr\n",
      "Total No. of Vowels :  5\n",
      "Total No. of Consonants :  21\n"
     ]
    }
   ],
   "source": [
    "def CountVowelsConsonants(string):\n",
    "    vowels = 0\n",
    "    consonants = 0\n",
    "    \n",
    "    for i in range(len(string)):\n",
    "        s = string[i]\n",
    "        s = s.lower() \n",
    "        \n",
    "        if s in ['a', 'e', 'i', 'o', 'u']:\n",
    "            vowels += 1\n",
    "        else:\n",
    "            consonants += 1\n",
    "            \n",
    "    return vowels, consonants\n",
    "\n",
    "\n",
    "string = input()\n",
    "Vowels, Consonants = CountVowelsConsonants(string)\n",
    "print(\"Total No. of Vowels : \",Vowels)\n",
    "print(\"Total No. of Consonants : \", Consonants)"
   ]
  },
  {
   "cell_type": "code",
   "execution_count": null,
   "id": "ce20c77d",
   "metadata": {},
   "outputs": [],
   "source": []
  }
 ],
 "metadata": {
  "kernelspec": {
   "display_name": "Python 3",
   "language": "python",
   "name": "python3"
  },
  "language_info": {
   "codemirror_mode": {
    "name": "ipython",
    "version": 3
   },
   "file_extension": ".py",
   "mimetype": "text/x-python",
   "name": "python",
   "nbconvert_exporter": "python",
   "pygments_lexer": "ipython3",
   "version": "3.8.8"
  }
 },
 "nbformat": 4,
 "nbformat_minor": 5
}
