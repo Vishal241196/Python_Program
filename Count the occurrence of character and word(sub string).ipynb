{
 "cells": [
  {
   "cell_type": "markdown",
   "id": "5e693dec",
   "metadata": {},
   "source": [
    "### Python Program to count the occurrence of given character in a string, Using for Loop:"
   ]
  },
  {
   "cell_type": "code",
   "execution_count": 3,
   "id": "71326a15",
   "metadata": {
    "scrolled": true
   },
   "outputs": [
    {
     "name": "stdout",
     "output_type": "stream",
     "text": [
      "Please enter String : vishalss\n",
      "Please enter a Character : s\n",
      "Total Number of occurence of  s is : 3\n"
     ]
    }
   ],
   "source": [
    "string = input(\"Please enter String : \")\n",
    "char = input(\"Please enter a Character : \")\n",
    "count = 0\n",
    "for i in range(len(string)):\n",
    "    if(string[i] == char):\n",
    "        count = count + 1\n",
    "print(\"Total Number of occurence of \", char, \"is :\" , count)"
   ]
  },
  {
   "cell_type": "code",
   "execution_count": 6,
   "id": "7b55e335",
   "metadata": {},
   "outputs": [
    {
     "name": "stdout",
     "output_type": "stream",
     "text": [
      "Please enter String : vishalss\n",
      "Please enter a Character : s\n",
      "Total Number of occurence of  s is : 3\n"
     ]
    }
   ],
   "source": [
    "def count_occur(char,string):\n",
    "    count = 0\n",
    "    for i in range(len(string)):\n",
    "        if(string[i] == char):\n",
    "            count +=1\n",
    "    return count\n",
    "    \n",
    "string = input(\"Please enter String : \")\n",
    "word = input(\"Please enter a Character : \")\n",
    "result = count_occur(char,string)\n",
    "print(\"Total Number of occurence of \", char, \"is :\" , result)"
   ]
  },
  {
   "cell_type": "markdown",
   "id": "300ba252",
   "metadata": {},
   "source": [
    "### Find Substring in a String and Count Occurrence"
   ]
  },
  {
   "cell_type": "code",
   "execution_count": 8,
   "id": "955f8b1b",
   "metadata": {},
   "outputs": [
    {
     "name": "stdout",
     "output_type": "stream",
     "text": [
      "Please enter String : vishalisis\n",
      "Please enter a substring : is\n",
      "Total Number of occurence of  is is : 3\n"
     ]
    }
   ],
   "source": [
    "string = input(\"Please enter String : \")\n",
    "word = input(\"Please enter a substring : \")\n",
    "count = 0\n",
    "for i in range(len(string)-len(substring)+1):\n",
    "    if(string[i:i+len(substring)] == word):\n",
    "        count = count + 1\n",
    "print(\"Total Number of occurence of \", word, \"is :\" , count)"
   ]
  },
  {
   "cell_type": "code",
   "execution_count": 7,
   "id": "4db6f421",
   "metadata": {},
   "outputs": [
    {
     "name": "stdout",
     "output_type": "stream",
     "text": [
      "Please enter String : vishal is a is\n",
      "Please enter a Character : is\n",
      "Total Number of occurence of  s is : 3\n"
     ]
    }
   ],
   "source": [
    "def count_occur(string,substring):\n",
    "    count = 0\n",
    "    for i in range(len(string)-len(substring)+1):\n",
    "        if(string[i:i+len(substring)] == substring):\n",
    "            count +=1\n",
    "    return count\n",
    "    \n",
    "string = input(\"Please enter String : \")\n",
    "substring = input(\"Please enter a Character : \")\n",
    "result = count_occur(string,substring)\n",
    "print(\"Total Number of occurence of \", char, \"is :\" , result)"
   ]
  },
  {
   "cell_type": "markdown",
   "id": "7289828a",
   "metadata": {},
   "source": [
    "### Count the occurrence of all character of a given string"
   ]
  },
  {
   "cell_type": "code",
   "execution_count": 1,
   "id": "2b249d93",
   "metadata": {
    "collapsed": true
   },
   "outputs": [
    {
     "name": "stdout",
     "output_type": "stream",
     "text": [
      "the quick brown fox jumps over the lazy dog\n",
      "a \t 1\n",
      "b \t 1\n",
      "c \t 1\n",
      "d \t 1\n",
      "e \t 3\n",
      "f \t 1\n",
      "g \t 1\n",
      "h \t 2\n",
      "i \t 1\n",
      "j \t 1\n",
      "k \t 1\n",
      "l \t 1\n",
      "m \t 1\n",
      "n \t 1\n",
      "o \t 4\n",
      "p \t 1\n",
      "q \t 1\n",
      "r \t 2\n",
      "s \t 1\n",
      "t \t 2\n",
      "u \t 2\n",
      "v \t 1\n",
      "w \t 1\n",
      "x \t 1\n",
      "y \t 1\n",
      "z \t 1\n"
     ]
    }
   ],
   "source": [
    "def FrequenctCount(s):\n",
    "    li = [0]*256\n",
    "    \n",
    "    for char in s:\n",
    "        li[ord(char)] += 1\n",
    "        \n",
    "    for i in range(ord('a'), ord('z') + 1):\n",
    "        print(chr(i), '\\t', li[i])\n",
    "\n",
    "string = input()\n",
    "FrequenctCount(string)"
   ]
  },
  {
   "cell_type": "markdown",
   "id": "6c5eac83",
   "metadata": {},
   "source": [
    "### Highest occurrence character"
   ]
  },
  {
   "cell_type": "code",
   "execution_count": 6,
   "id": "8c752b72",
   "metadata": {},
   "outputs": [
    {
     "name": "stdout",
     "output_type": "stream",
     "text": [
      "vishalsss\n",
      "s\n"
     ]
    }
   ],
   "source": [
    "string = input()\n",
    "\n",
    "freq = [0]*256\n",
    "\n",
    "for char in string:\n",
    "    freq[ord(char)] += 1\n",
    "    \n",
    "most = string[0]\n",
    "\n",
    "for char in string[1:len(string)]:\n",
    "    if freq[ord(char)] > freq[ord(most)]:\n",
    "        most = char\n",
    "\n",
    "print(most)"
   ]
  },
  {
   "cell_type": "code",
   "execution_count": null,
   "id": "62d38aba",
   "metadata": {},
   "outputs": [],
   "source": []
  }
 ],
 "metadata": {
  "kernelspec": {
   "display_name": "Python 3",
   "language": "python",
   "name": "python3"
  },
  "language_info": {
   "codemirror_mode": {
    "name": "ipython",
    "version": 3
   },
   "file_extension": ".py",
   "mimetype": "text/x-python",
   "name": "python",
   "nbconvert_exporter": "python",
   "pygments_lexer": "ipython3",
   "version": "3.8.8"
  }
 },
 "nbformat": 4,
 "nbformat_minor": 5
}
