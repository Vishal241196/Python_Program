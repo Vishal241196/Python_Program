{
 "cells": [
  {
   "cell_type": "markdown",
   "id": "103f8ab5",
   "metadata": {},
   "source": [
    "### Python Program for Fibonacci numbers\n",
    "-    Input : 7\n",
    "-   Output : 8\n",
    "- Solution : 0 1 1 2 3 5 8"
   ]
  },
  {
   "cell_type": "code",
   "execution_count": 3,
   "id": "76b7fe1c",
   "metadata": {},
   "outputs": [
    {
     "name": "stdout",
     "output_type": "stream",
     "text": [
      "please give a number for fibonacci series : 7\n",
      "fibonacci number :  8\n"
     ]
    }
   ],
   "source": [
    "first,second=0,1\n",
    "n = int(input(\"please give a number for fibonacci series : \"))\n",
    "for i in range(0,n):\n",
    "    if i<=1:\n",
    "        result=i\n",
    "    else:\n",
    "        result = first + second;\n",
    "        first = second;\n",
    "        second = result;\n",
    "print(\"fibonacci number : \",result)"
   ]
  },
  {
   "cell_type": "code",
   "execution_count": 2,
   "id": "2599d2b1",
   "metadata": {},
   "outputs": [
    {
     "name": "stdout",
     "output_type": "stream",
     "text": [
      "please give a number for fibonacci series : 2\n",
      "fibonacci number :  1\n"
     ]
    }
   ],
   "source": [
    "first,second=0,1\n",
    "n = int(input(\"please give a number for fibonacci series : \"))\n",
    "\n",
    "# Function for nth Fibonacci number\n",
    "def fibonacci(n):\n",
    "    # Check if input is 0 then it will\n",
    "    # print incorrect input\n",
    "    if n < 0:\n",
    "        print(\"Incorrect input\")\n",
    "        \n",
    "    # Check if n is 0\n",
    "    # then it will return 0\n",
    "    elif n == first:\n",
    "        return 0\n",
    "    \n",
    "    # Check if n is 1,2\n",
    "    # it will return 1\n",
    "    elif n == second:\n",
    "        return 1\n",
    "    \n",
    "    else:\n",
    "        return fibonacci(n-1) + fibonacci(n-2)\n",
    "\n",
    "print(\"fibonacci number : \",fibonacci(n-1))"
   ]
  },
  {
   "cell_type": "markdown",
   "id": "2aff73dd",
   "metadata": {},
   "source": [
    "### Python program to print Fibonacci series program in using Recursive methods\n",
    "-    Input : 7\n",
    "-   Output : 8\n",
    "- Solution : 0 1 1 2 3 5 8"
   ]
  },
  {
   "cell_type": "code",
   "execution_count": 5,
   "id": "2b1a9524",
   "metadata": {},
   "outputs": [
    {
     "name": "stdout",
     "output_type": "stream",
     "text": [
      "please give a number for fibonacci series : 7\n",
      "fibonacci series are : \n",
      "0\n",
      "1\n",
      "1\n",
      "2\n",
      "3\n",
      "5\n",
      "8\n"
     ]
    }
   ],
   "source": [
    "first,second=0,1\n",
    "n = int(input(\"please give a number for fibonacci series : \"))\n",
    "\n",
    "# Function for nth Fibonacci number\n",
    "def fibonacci(n):\n",
    "    # Check if input is 0 then it will\n",
    "    # print incorrect input\n",
    "    if n < 0:\n",
    "        print(\"Incorrect input\")\n",
    "        \n",
    "    # Check if n is 0\n",
    "    # then it will return 0\n",
    "    elif n == 0:\n",
    "        return 0\n",
    "    \n",
    "    # Check if n is 1,2\n",
    "    # it will return 1\n",
    "    elif n == 1 or n == 2:\n",
    "        return 1\n",
    "    \n",
    "    else:\n",
    "        return fibonacci(n-1) + fibonacci(n-2)\n",
    "\n",
    "print(\"fibonacci series are : \")\n",
    "for i in range(0,n):\n",
    "    print(fibonacci(i))"
   ]
  },
  {
   "cell_type": "markdown",
   "id": "07a726ae",
   "metadata": {},
   "source": [
    "### Python program to print Fibonacci series program in using Iterative methods"
   ]
  },
  {
   "cell_type": "code",
   "execution_count": 8,
   "id": "45751714",
   "metadata": {},
   "outputs": [
    {
     "name": "stdout",
     "output_type": "stream",
     "text": [
      "please give a number for fibonacci series : 5\n",
      "fibonacci series are : \n",
      "0\n",
      "1\n",
      "1\n",
      "2\n",
      "3\n"
     ]
    }
   ],
   "source": [
    "first,second=0,1\n",
    "n = int(input(\"please give a number for fibonacci series : \"))\n",
    "print(\"fibonacci series are : \")\n",
    "for i in range(0,n):\n",
    "    if i<=1:\n",
    "        result=i\n",
    "    else:\n",
    "        result = first + second\n",
    "        first = second\n",
    "        second = result\n",
    "    print(result)"
   ]
  },
  {
   "cell_type": "code",
   "execution_count": null,
   "id": "8f9a3dbe",
   "metadata": {},
   "outputs": [],
   "source": []
  }
 ],
 "metadata": {
  "kernelspec": {
   "display_name": "Python 3",
   "language": "python",
   "name": "python3"
  },
  "language_info": {
   "codemirror_mode": {
    "name": "ipython",
    "version": 3
   },
   "file_extension": ".py",
   "mimetype": "text/x-python",
   "name": "python",
   "nbconvert_exporter": "python",
   "pygments_lexer": "ipython3",
   "version": "3.8.8"
  }
 },
 "nbformat": 4,
 "nbformat_minor": 5
}
