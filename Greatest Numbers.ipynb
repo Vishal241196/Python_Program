{
 "cells": [
  {
   "cell_type": "markdown",
   "id": "a7e9f4f8",
   "metadata": {},
   "source": [
    "### Python program to find greatest of three numbers"
   ]
  },
  {
   "cell_type": "code",
   "execution_count": 1,
   "id": "986de720",
   "metadata": {},
   "outputs": [
    {
     "name": "stdout",
     "output_type": "stream",
     "text": [
      "please give 1st number : 4\n",
      "please give 2nd number : 2\n",
      "please give 3rd number : 5\n",
      "3rd number is greatest\n"
     ]
    }
   ],
   "source": [
    "n1 = int(input(\"please give 1st number : \"))\n",
    "n2 = int(input(\"please give 2nd number : \"))\n",
    "n3 = int(input(\"please give 3rd number : \"))\n",
    "if n1>=n2 and n1>=n3: \n",
    "    print(\" 1st number is greatest\");\n",
    "if n2>=n1 and n2>=n3:\n",
    "    print(\" 2nd number is greatest\");\n",
    "if n3>=n1 and n3>=n2:\n",
    "    print(\"3rd number is greatest\"); \n"
   ]
  },
  {
   "cell_type": "code",
   "execution_count": 2,
   "id": "e834b09f",
   "metadata": {},
   "outputs": [
    {
     "name": "stdout",
     "output_type": "stream",
     "text": [
      "please give 1st number : 46\n",
      "please give 2nd number : 34\n",
      "please give 3rd number : 156\n",
      " 3rd number is greatest\n"
     ]
    }
   ],
   "source": [
    "n1 = int(input(\"please give 1st number : \"))\n",
    "n2 = int(input(\"please give 2nd number : \"))\n",
    "n3 = int(input(\"please give 3rd number : \"))\n",
    "if n1>=n2:\n",
    "    if n1>=n3:\n",
    "        print(\" 1st number is greatest\")\n",
    "    else:\n",
    "        print(\" 3rd number is greatest\")\n",
    "else:\n",
    "    if n2>=n3:\n",
    "        print(\" 2nd number is greatest\");\n",
    "    else:\n",
    "        print(\"3rd number is greatest\"); "
   ]
  },
  {
   "cell_type": "code",
   "execution_count": null,
   "id": "4eb11f6d",
   "metadata": {},
   "outputs": [],
   "source": []
  }
 ],
 "metadata": {
  "kernelspec": {
   "display_name": "Python 3",
   "language": "python",
   "name": "python3"
  },
  "language_info": {
   "codemirror_mode": {
    "name": "ipython",
    "version": 3
   },
   "file_extension": ".py",
   "mimetype": "text/x-python",
   "name": "python",
   "nbconvert_exporter": "python",
   "pygments_lexer": "ipython3",
   "version": "3.8.8"
  }
 },
 "nbformat": 4,
 "nbformat_minor": 5
}
