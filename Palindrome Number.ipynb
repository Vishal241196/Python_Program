{
 "cells": [
  {
   "cell_type": "markdown",
   "id": "a77429f7",
   "metadata": {},
   "source": [
    "### Python program for palindrome number using iterative method"
   ]
  },
  {
   "cell_type": "code",
   "execution_count": 1,
   "id": "7feea302",
   "metadata": {},
   "outputs": [
    {
     "name": "stdout",
     "output_type": "stream",
     "text": [
      "please give a number : 123\n",
      "number is not palindrom\n"
     ]
    }
   ],
   "source": [
    "n = int(input(\"please give a number : \"))\n",
    "reverse,temp = 0,n\n",
    "while temp!=0:\n",
    "    reverse = reverse*10 + temp%10\n",
    "    temp=temp//10\n",
    "if reverse==n:\n",
    "    print(\"number is palindrom\")\n",
    "else:\n",
    "    print(\"number is not palindrom\")"
   ]
  },
  {
   "cell_type": "markdown",
   "id": "7d59d14d",
   "metadata": {},
   "source": [
    "### Python program for palindrome number using recursive method"
   ]
  },
  {
   "cell_type": "code",
   "execution_count": 1,
   "id": "cc27c3ba",
   "metadata": {},
   "outputs": [
    {
     "name": "stdout",
     "output_type": "stream",
     "text": [
      "please give a number : 121\n",
      "Given number is a palindrome\n"
     ]
    }
   ],
   "source": [
    "n = int(input(\"please give a number : \"))\n",
    "\n",
    "def reverse(num):\n",
    "    if num<10:\n",
    "        return num \n",
    "    else:\n",
    "        return int(str(num%10) + str(reverse(num//10)))\n",
    "\n",
    "def isPalindrome(num):\n",
    "    if num == reverse(num):\n",
    "        return 1\n",
    "    return 0\n",
    "if isPalindrome(n) == 1:\n",
    "    print(\"Given number is a palindrome\")\n",
    "else:\n",
    "    print(\"Given number is a not palindrome\") "
   ]
  },
  {
   "cell_type": "code",
   "execution_count": null,
   "id": "d273a696",
   "metadata": {},
   "outputs": [],
   "source": []
  }
 ],
 "metadata": {
  "kernelspec": {
   "display_name": "Python 3",
   "language": "python",
   "name": "python3"
  },
  "language_info": {
   "codemirror_mode": {
    "name": "ipython",
    "version": 3
   },
   "file_extension": ".py",
   "mimetype": "text/x-python",
   "name": "python",
   "nbconvert_exporter": "python",
   "pygments_lexer": "ipython3",
   "version": "3.8.8"
  }
 },
 "nbformat": 4,
 "nbformat_minor": 5
}
