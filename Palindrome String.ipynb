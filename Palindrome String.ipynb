{
 "cells": [
  {
   "cell_type": "markdown",
   "id": "7593a55d",
   "metadata": {},
   "source": [
    "### String Palindrome"
   ]
  },
  {
   "cell_type": "code",
   "execution_count": 7,
   "id": "4e82739d",
   "metadata": {},
   "outputs": [
    {
     "name": "stdout",
     "output_type": "stream",
     "text": [
      "Enter String : ababa\n",
      "String is palindrom\n"
     ]
    }
   ],
   "source": [
    "s = input(\"Enter String : \")\n",
    "if (s == s[::-1]):\n",
    "    print(\"String is palindrom\")\n",
    "else:\n",
    "    print(\"String is not palindrom\")"
   ]
  },
  {
   "cell_type": "code",
   "execution_count": 10,
   "id": "f68d75d6",
   "metadata": {},
   "outputs": [
    {
     "name": "stdout",
     "output_type": "stream",
     "text": [
      "Enter String : abcba\n",
      "String is palindrom\n"
     ]
    }
   ],
   "source": [
    "s = input(\"Enter String : \")\n",
    "def palindrome(s):\n",
    "    for i in range(0,int(len(s)/2)):\n",
    "        if s[i] != s[len(s)-i-1]:\n",
    "            return False\n",
    "    return True\n",
    "if (palindrome(s)):\n",
    "    print(\"String is palindrom\")\n",
    "else:\n",
    "    print(\"String is not palindrom\")"
   ]
  },
  {
   "cell_type": "code",
   "execution_count": null,
   "id": "570a1c38",
   "metadata": {},
   "outputs": [],
   "source": []
  }
 ],
 "metadata": {
  "kernelspec": {
   "display_name": "Python 3",
   "language": "python",
   "name": "python3"
  },
  "language_info": {
   "codemirror_mode": {
    "name": "ipython",
    "version": 3
   },
   "file_extension": ".py",
   "mimetype": "text/x-python",
   "name": "python",
   "nbconvert_exporter": "python",
   "pygments_lexer": "ipython3",
   "version": "3.8.8"
  }
 },
 "nbformat": 4,
 "nbformat_minor": 5
}
