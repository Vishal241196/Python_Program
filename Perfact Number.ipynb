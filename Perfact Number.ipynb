{
 "cells": [
  {
   "cell_type": "markdown",
   "id": "fe89cf3b",
   "metadata": {},
   "source": [
    "### program to check a given number is perfect or not in Python\n",
    "- Input : 28\n",
    "- Output : Perfect Number\n",
    "- Solution : 1+2+4+7+14 = 28"
   ]
  },
  {
   "cell_type": "code",
   "execution_count": 2,
   "id": "6d5769cb",
   "metadata": {},
   "outputs": [
    {
     "name": "stdout",
     "output_type": "stream",
     "text": [
      "please give first number a: 4\n",
      "given no. is not a perfect number\n"
     ]
    }
   ],
   "source": [
    "num = int(input(\"please give first number a: \"))\n",
    "sum=0\n",
    "for i in range(1,(num//2)+1):\n",
    "    remainder = num % i\n",
    "    if remainder == 0:\n",
    "        sum = sum + i\n",
    "if sum == num:\n",
    "    print(\"given no. is perfect number\")\n",
    "else:\n",
    "    print(\"given no. is not a perfect number\") "
   ]
  },
  {
   "cell_type": "markdown",
   "id": "56f1184f",
   "metadata": {},
   "source": [
    "### Using Recurrsion"
   ]
  },
  {
   "cell_type": "code",
   "execution_count": 8,
   "id": "482e230e",
   "metadata": {},
   "outputs": [
    {
     "name": "stdout",
     "output_type": "stream",
     "text": [
      "please give first number a: 35\n",
      "35 is NOT PERFECT\n"
     ]
    }
   ],
   "source": [
    "# Function to check perfect number\n",
    "def is_perfect(n):\n",
    "    sum = 0\n",
    "    for i in range(1,n):\n",
    "        if n%i==0:\n",
    "            sum += i\n",
    "\n",
    "    return sum == n\n",
    "\n",
    "# Reading number\n",
    "n = int(input(\"please give first number a: \"))\n",
    "\n",
    "# Function call & Decision\n",
    "if is_perfect(n):\n",
    "    print('%d is PERFECT' %(n))\n",
    "else:\n",
    "    print('%d is NOT PERFECT' %(n))"
   ]
  },
  {
   "cell_type": "markdown",
   "id": "742a411b",
   "metadata": {},
   "source": [
    "### Perfect Number till N Number"
   ]
  },
  {
   "cell_type": "code",
   "execution_count": 9,
   "id": "f38bf486",
   "metadata": {},
   "outputs": [
    {
     "name": "stdout",
     "output_type": "stream",
     "text": [
      "please give range of a number : 10\n",
      "1 is not PERFECT\n",
      "2 is not PERFECT\n",
      "3 is not PERFECT\n",
      "4 is not PERFECT\n",
      "5 is not PERFECT\n",
      "6 is PERFECT\n",
      "7 is not PERFECT\n",
      "8 is not PERFECT\n",
      "9 is not PERFECT\n"
     ]
    }
   ],
   "source": [
    "# Function to check perfect number\n",
    "def is_perfect(n):\n",
    "    sum = 0\n",
    "    for i in range(1,n):\n",
    "        if n%i==0:\n",
    "            sum += i\n",
    "\n",
    "    return sum == n\n",
    "\n",
    "Range = int(input(\"please give range of a number : \"))\n",
    "\n",
    "# Function call & Decision\n",
    "for num in range(1,Range):\n",
    "    if is_perfect(num):\n",
    "        print(num,'is PERFECT')\n",
    "    else:\n",
    "        print(num,'is not PERFECT')"
   ]
  },
  {
   "cell_type": "code",
   "execution_count": null,
   "id": "a349ef14",
   "metadata": {},
   "outputs": [],
   "source": []
  }
 ],
 "metadata": {
  "kernelspec": {
   "display_name": "Python 3",
   "language": "python",
   "name": "python3"
  },
  "language_info": {
   "codemirror_mode": {
    "name": "ipython",
    "version": 3
   },
   "file_extension": ".py",
   "mimetype": "text/x-python",
   "name": "python",
   "nbconvert_exporter": "python",
   "pygments_lexer": "ipython3",
   "version": "3.8.8"
  }
 },
 "nbformat": 4,
 "nbformat_minor": 5
}
