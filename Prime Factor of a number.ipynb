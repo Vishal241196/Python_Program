{
 "cells": [
  {
   "cell_type": "code",
   "execution_count": 5,
   "id": "5b40ab13",
   "metadata": {},
   "outputs": [
    {
     "name": "stdout",
     "output_type": "stream",
     "text": [
      "enter number :24\n",
      "2\n",
      "2\n",
      "2\n",
      "3\n"
     ]
    }
   ],
   "source": [
    "import math\n",
    "def primeFactors(n):\n",
    "    \n",
    "    # Print the number of two's that divide n\n",
    "    while n % 2 == 0:\n",
    "        n = n / 2\n",
    "        print(2)\n",
    "    \n",
    "    for i in range(3,int(math.sqrt(n))+1,2):\n",
    "        \n",
    "        # while i divides n , print i and divide n\n",
    "        while n % i== 0:\n",
    "            print(i)\n",
    "            n = n / i\n",
    "            \n",
    "    # Condition if n is a prime\n",
    "    # number greater than 2\n",
    "    if n > 2:\n",
    "        print(int(n))\n",
    "        \n",
    "# Driver Program to test above function\n",
    "\n",
    "n = int(input(\"enter number :\"))\n",
    "primeFactors(n)"
   ]
  },
  {
   "cell_type": "code",
   "execution_count": 5,
   "id": "24832bba",
   "metadata": {},
   "outputs": [
    {
     "name": "stdout",
     "output_type": "stream",
     "text": [
      " Please Enter any Number: 24\n",
      " 2 is a Prime Factor of a Given Number 24\n",
      " 3 is a Prime Factor of a Given Number 24\n"
     ]
    }
   ],
   "source": [
    "Number = int(input(\" Please Enter any Number: \"))\n",
    "i = 1\n",
    "\n",
    "while(i <= Number):\n",
    "    count = 0\n",
    "    if(Number % i == 0):\n",
    "        j = 1\n",
    "        while(j <= i):\n",
    "            if(i % j == 0):\n",
    "                count = count + 1\n",
    "            j = j + 1\n",
    "            \n",
    "        if (count == 2):\n",
    "            print(\" %d is a Prime Factor of a Given Number %d\" %(i, Number))\n",
    "    i = i + 1"
   ]
  },
  {
   "cell_type": "code",
   "execution_count": null,
   "id": "1a7977ca",
   "metadata": {},
   "outputs": [],
   "source": []
  }
 ],
 "metadata": {
  "kernelspec": {
   "display_name": "Python 3",
   "language": "python",
   "name": "python3"
  },
  "language_info": {
   "codemirror_mode": {
    "name": "ipython",
    "version": 3
   },
   "file_extension": ".py",
   "mimetype": "text/x-python",
   "name": "python",
   "nbconvert_exporter": "python",
   "pygments_lexer": "ipython3",
   "version": "3.8.8"
  }
 },
 "nbformat": 4,
 "nbformat_minor": 5
}
