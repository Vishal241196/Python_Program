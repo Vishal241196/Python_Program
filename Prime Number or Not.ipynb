{
 "cells": [
  {
   "cell_type": "markdown",
   "id": "f0d0efaa",
   "metadata": {},
   "source": [
    "### Python program to check given number is prime or not"
   ]
  },
  {
   "cell_type": "code",
   "execution_count": 6,
   "id": "0e8a9491",
   "metadata": {},
   "outputs": [
    {
     "name": "stdout",
     "output_type": "stream",
     "text": [
      "Enter a number: 4\n",
      "4 is not a prime number\n",
      "Because 2 X 2 = 4\n"
     ]
    }
   ],
   "source": [
    "# Program to check if a number is prime or not\n",
    "\n",
    "# take input from the user\n",
    "num = int(input(\"Enter a number: \"))\n",
    "\n",
    "if num<2:\n",
    "    print(num,\"is not a prime number\")\n",
    "\n",
    "elif num > 2:\n",
    "   # check for factors\n",
    "   for i in range(2,num):\n",
    "        if (num % i) == 0:\n",
    "            print(num,\"is not a prime number\")\n",
    "            print(\"Because\",i,\"X\",num//i,\"=\",num)\n",
    "            break\n",
    "   else:\n",
    "        print(num,\"is a prime number\")\n",
    "\n",
   ]
  },
  {
   "cell_type": "code",
   "execution_count": 1,
   "id": "b71238db",
   "metadata": {},
   "outputs": [
    {
     "name": "stdout",
     "output_type": "stream",
     "text": [
      "Enter number: 2\n",
      "2 is prime number\n"
     ]
    }
   ],
   "source": [
    "def isprime(num, i = None):\n",
    "    if i is None:\n",
    "        i = num - 1\n",
    "    while i >= 2:\n",
    "        if num % i == 0:\n",
    "            print(num,\"is not a prime number\")\n",
    "            print(\"Because\",i,\"X\",num//i,\"=\",num)\n",
    "            return \n",
    "            \n",
    "        else:\n",
    "            return isprime(num, i-1)\n",
    "    else:\n",
    "        print(num,\"is prime number\")\n",
    "        return \n",
    "        \n",
    "n=int(input(\"Enter number: \"))\n",
    "isprime(n)"
   ]
  },
  {
   "cell_type": "code",
   "execution_count": 5,
   "id": "d38a759f",
   "metadata": {},
   "outputs": [
    {
     "name": "stdout",
     "output_type": "stream",
     "text": [
      "Please, Enter the Value: 2\n",
      "2 is the Prime Numbers\n"
     ]
    }
   ],
   "source": [
    "def IsPrime(n):\n",
    "    if n < 2:\n",
    "        print(\"Not Prime\")\n",
    "    \n",
    "    d = 2\n",
    "    while n > d:\n",
    "        if n % d == 0:\n",
    "            print(\"Not Prime\")\n",
    "        d += 1\n",
    "    return n\n",
    "\n",
    "n = int(input (\"Please, Enter the Value: \"))  \n",
    "print(IsPrime(n),\"is the Prime Numbers\") "
   ]
  },
  {
   "cell_type": "code",
   "execution_count": null,
   "id": "df95d0d3",
   "metadata": {},
   "outputs": [],
   "source": []
  }
 ],
 "metadata": {
  "kernelspec": {
   "display_name": "Python 3",
   "language": "python",
   "name": "python3"
  },
  "language_info": {
   "codemirror_mode": {
    "name": "ipython",
    "version": 3
   },
   "file_extension": ".py",
   "mimetype": "text/x-python",
   "name": "python",
   "nbconvert_exporter": "python",
   "pygments_lexer": "ipython3",
   "version": "3.8.8"
  }
 },
 "nbformat": 4,
 "nbformat_minor": 5
}
