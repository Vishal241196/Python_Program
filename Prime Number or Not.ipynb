{
 "cells": [
  {
   "cell_type": "markdown",
   "id": "f0d0efaa",
   "metadata": {},
   "source": [
    "### Python program to check given number is prime or not"
   ]
  },
  {
   "cell_type": "code",
   "execution_count": 1,
   "id": "b71238db",
   "metadata": {},
   "outputs": [
    {
     "name": "stdout",
     "output_type": "stream",
     "text": [
      "9 is not a prime\n",
      "11 is a prime\n",
      "16 is not a prime\n",
      "5 is a prime\n",
      "2 is a prime\n"
     ]
    }
   ],
   "source": [
    "def prime(n):\n",
    "    if n < 2:\n",
    "        print(n,'is not a prime')\n",
    "    elif n >= 2:\n",
    "        for i in range(2,n):\n",
    "            if n%i == 0:\n",
    "                print(n,'is not a prime')\n",
    "                break\n",
    "        else:\n",
    "            print(n, 'is a prime')\n",
    "            \n",
    "\n",
    "num = [9,11,16,5,2]\n",
    "for n in num:\n",
    "    prime(n)"
   ]
  },
  {
   "cell_type": "code",
   "execution_count": null,
   "id": "df95d0d3",
   "metadata": {},
   "outputs": [],
   "source": []
  }
 ],
 "metadata": {
  "kernelspec": {
   "display_name": "Python 3",
   "language": "python",
   "name": "python3"
  },
  "language_info": {
   "codemirror_mode": {
    "name": "ipython",
    "version": 3
   },
   "file_extension": ".py",
   "mimetype": "text/x-python",
   "name": "python",
   "nbconvert_exporter": "python",
   "pygments_lexer": "ipython3",
   "version": "3.8.8"
  }
 },
 "nbformat": 4,
 "nbformat_minor": 5
}
