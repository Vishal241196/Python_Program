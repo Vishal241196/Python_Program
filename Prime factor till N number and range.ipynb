{
 "cells": [
  {
   "cell_type": "markdown",
   "id": "498cc365",
   "metadata": {},
   "source": [
    "#  Print all prime numbers till given number N.\n",
    "- Sample Input : 15\n",
    "- Sample output : 2 3 5 7 11 13"
   ]
  },
  {
   "cell_type": "code",
   "execution_count": 17,
   "id": "f2301092",
   "metadata": {},
   "outputs": [
    {
     "name": "stdout",
     "output_type": "stream",
     "text": [
      "Please, Enter the Value: 15\n",
      "The Prime Numbers till number 15 are: \n",
      "2 3 5 7 11 13 "
     ]
    }
   ],
   "source": [
    "def IsPrime(n):\n",
    "    if n < 2:\n",
    "        return False\n",
    "    \n",
    "    d = 2\n",
    "    while n > d:\n",
    "        if n % d == 0:\n",
    "            return False\n",
    "        d += 1\n",
    "    return True\n",
    "\n",
    "def PrimeTillN(n):\n",
    "    k = 2\n",
    "    while n >= k:\n",
    "        if IsPrime(k) == True:\n",
    "            print(k, end = ' ')\n",
    "        k += 1\n",
    "        \n",
    "n = int(input (\"Please, Enter the Value: \"))  \n",
    "print(\"The Prime Numbers till number\",n, \"are: \") \n",
    "\n",
    "PrimeTillN(n)"
   ]
  },
  {
   "cell_type": "code",
   "execution_count": 16,
   "id": "e6a8892d",
   "metadata": {},
   "outputs": [
    {
     "name": "stdout",
     "output_type": "stream",
     "text": [
      "Please, Enter the Value: 15\n",
      "The Prime Numbers till number 15 are: \n",
      "2\n",
      "3\n",
      "5\n",
      "7\n",
      "11\n",
      "13\n"
     ]
    }
   ],
   "source": [
    "n = int(input (\"Please, Enter the Value: \"))  \n",
    "  \n",
    "print(\"The Prime Numbers till number\",n, \"are: \")  \n",
    "for num in range(n+1):  \n",
    "    if num > 1:  \n",
    "        for i in range (2, num):  \n",
    "            if (num % i) == 0:  \n",
    "                break  \n",
    "        else:  \n",
    "            print(num)  "
   ]
  },
  {
   "cell_type": "markdown",
   "id": "172fe9bb",
   "metadata": {},
   "source": [
    "### Prime Factor in given range"
   ]
  },
  {
   "cell_type": "code",
   "execution_count": 18,
   "id": "34a623d7",
   "metadata": {},
   "outputs": [
    {
     "name": "stdout",
     "output_type": "stream",
     "text": [
      "Please, Enter the Lowest Range Value: 2\n",
      "Please, Enter the Upper Range Value: 8\n",
      "The Prime Numbers in the range (2, 8) are: \n",
      "2\n",
      "3\n",
      "5\n",
      "7\n"
     ]
    }
   ],
   "source": [
    "lower = int(input (\"Please, Enter the Lowest Range Value: \"))  \n",
    "upper = int(input (\"Please, Enter the Upper Range Value: \"))  \n",
    "  \n",
    "print (\"The Prime Numbers in the range\",(lower,upper), \"are: \")  \n",
    "for num in range (lower, upper + 1):  \n",
    "    if num > 1:  \n",
    "        for i in range (2, num):  \n",
    "            if (num % i) == 0:  \n",
    "                break  \n",
    "        else:  \n",
    "            print (num)  "
   ]
  },
  {
   "cell_type": "code",
   "execution_count": null,
   "id": "a85eb22c",
   "metadata": {},
   "outputs": [],
   "source": []
  }
 ],
 "metadata": {
  "kernelspec": {
   "display_name": "Python 3",
   "language": "python",
   "name": "python3"
  },
  "language_info": {
   "codemirror_mode": {
    "name": "ipython",
    "version": 3
   },
   "file_extension": ".py",
   "mimetype": "text/x-python",
   "name": "python",
   "nbconvert_exporter": "python",
   "pygments_lexer": "ipython3",
   "version": "3.8.8"
  }
 },
 "nbformat": 4,
 "nbformat_minor": 5
}
