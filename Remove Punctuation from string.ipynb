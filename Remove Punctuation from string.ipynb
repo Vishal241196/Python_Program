{
 "cells": [
  {
   "cell_type": "code",
   "execution_count": 2,
   "id": "83d8c1b9",
   "metadata": {},
   "outputs": [
    {
     "name": "stdout",
     "output_type": "stream",
     "text": [
      "Enter String : vish$^#@al@$><?\"sol{}(anki\n",
      "vishalsolanki\n"
     ]
    }
   ],
   "source": [
    "punctuation = '''!()-[]{}:;'\"\"\\,<>./?@#$%^&*_-'''\n",
    "string = input(\"Enter String : \")\n",
    "no_punct = \"\"\n",
    "for char in string:\n",
    "    if char not in punctuation:\n",
    "        no_punct += char\n",
    "print(no_punct)"
   ]
  },
  {
   "cell_type": "code",
   "execution_count": null,
   "id": "cff8c4d0",
   "metadata": {},
   "outputs": [],
   "source": []
  }
 ],
 "metadata": {
  "kernelspec": {
   "display_name": "Python 3",
   "language": "python",
   "name": "python3"
  },
  "language_info": {
   "codemirror_mode": {
    "name": "ipython",
    "version": 3
   },
   "file_extension": ".py",
   "mimetype": "text/x-python",
   "name": "python",
   "nbconvert_exporter": "python",
   "pygments_lexer": "ipython3",
   "version": "3.8.8"
  }
 },
 "nbformat": 4,
 "nbformat_minor": 5
}
