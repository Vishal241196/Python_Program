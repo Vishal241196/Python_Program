{
 "cells": [
  {
   "cell_type": "markdown",
   "id": "ecae9cca",
   "metadata": {},
   "source": [
    "### Naive method"
   ]
  },
  {
   "cell_type": "code",
   "execution_count": 1,
   "id": "29127dd3",
   "metadata": {},
   "outputs": [
    {
     "name": "stdout",
     "output_type": "stream",
     "text": [
      "Enter String:GeeksForGeeks\n",
      "The original string is : GeeksForGeeks\n",
      "The string after removal of i'th character : GeksForGeeks\n"
     ]
    }
   ],
   "source": [
    "test_str = input(\"Enter String:\")\n",
    "  \n",
    "# Printing original string \n",
    "print (\"The original string is : \" + test_str)\n",
    "  \n",
    "# Removing char at pos 3\n",
    "# using loop\n",
    "new_str = \"\"\n",
    "  \n",
    "for i in range(len(test_str)):\n",
    "    if i != 2:\n",
    "        new_str = new_str + test_str[i]\n",
    "  \n",
    "# Printing string after removal  \n",
    "print (\"The string after removal of i'th character : \" + new_str)"
   ]
  },
  {
   "cell_type": "markdown",
   "id": "35d743c1",
   "metadata": {},
   "source": [
    "### Using str.replace()"
   ]
  },
  {
   "cell_type": "code",
   "execution_count": 2,
   "id": "efcc11e1",
   "metadata": {},
   "outputs": [
    {
     "name": "stdout",
     "output_type": "stream",
     "text": [
      "Enter String:GeeksForGeeks\n",
      "The original string is : GeeksForGeeks\n",
      "The string after removal of i'th character( doesn't work) : GksForGks\n",
      "The string after removal of i'th character(works) : GeekForGeeks\n"
     ]
    }
   ],
   "source": [
    "test_str = input(\"Enter String:\")\n",
    "  \n",
    "# Printing original string \n",
    "print (\"The original string is : \" + test_str)\n",
    "\n",
    "# Removing char at pos 3\n",
    "# using replace\n",
    "new_str = test_str.replace('e', '')\n",
    "  \n",
    "# Printing string after removal  \n",
    "# removes all occurrences of 'e'\n",
    "print (\"The string after removal of i'th character( doesn't work) : \" + new_str)\n",
    "  \n",
    "# Removing 1st occurrence of s, i.e 5th pos.\n",
    "# if we wish to remove it.\n",
    "new_str = test_str.replace('s', '', 1)\n",
    "  \n",
    "# Printing string after removal  \n",
    "# removes first occurrences of s\n",
    "print (\"The string after removal of i'th character(works) : \" + new_str)"
   ]
  },
  {
   "cell_type": "markdown",
   "id": "e1f201cf",
   "metadata": {},
   "source": [
    "### Using slice + concatenation"
   ]
  },
  {
   "cell_type": "code",
   "execution_count": 3,
   "id": "8edee1bc",
   "metadata": {},
   "outputs": [
    {
     "name": "stdout",
     "output_type": "stream",
     "text": [
      "Enter String:GeeksForGeeks\n",
      "The original string is : GeeksForGeeks\n",
      "The string after removal of i'th character : GeksForGeeks\n"
     ]
    }
   ],
   "source": [
    "test_str = input(\"Enter String:\")\n",
    "  \n",
    "# Printing original string \n",
    "print (\"The original string is : \" + test_str)\n",
    "\n",
    "# Removing char at pos 3\n",
    "# using slice + concatenation\n",
    "new_str = test_str[:2] +  test_str[3:]\n",
    "  \n",
    "# Printing string after removal  \n",
    "# removes ele. at 3rd index\n",
    "print (\"The string after removal of i'th character : \" + new_str)"
   ]
  },
  {
   "cell_type": "markdown",
   "id": "0138a92e",
   "metadata": {},
   "source": [
    "###  Using str.join()"
   ]
  },
  {
   "cell_type": "code",
   "execution_count": 4,
   "id": "c71e129b",
   "metadata": {},
   "outputs": [
    {
     "name": "stdout",
     "output_type": "stream",
     "text": [
      "Enter String:GeeksForGeeks\n",
      "The original string is : GeeksForGeeks\n",
      "The string after removal of i'th character : GeksForGeeks\n"
     ]
    }
   ],
   "source": [
    "test_str = input(\"Enter String:\")\n",
    "  \n",
    "# Printing original string \n",
    "print (\"The original string is : \" + test_str)\n",
    "\n",
    "# Removing char at pos 3\n",
    "# using join() + list comprehension\n",
    "new_str = ''.join([test_str[i] for i in range(len(test_str)) if i != 2])\n",
    "  \n",
    "# Printing string after removal  \n",
    "# removes ele. at 3rd index\n",
    "print (\"The string after removal of i'th character : \" + new_str)"
   ]
  },
  {
   "cell_type": "code",
   "execution_count": null,
   "id": "80b1a843",
   "metadata": {},
   "outputs": [],
   "source": []
  }
 ],
 "metadata": {
  "kernelspec": {
   "display_name": "Python 3",
   "language": "python",
   "name": "python3"
  },
  "language_info": {
   "codemirror_mode": {
    "name": "ipython",
    "version": 3
   },
   "file_extension": ".py",
   "mimetype": "text/x-python",
   "name": "python",
   "nbconvert_exporter": "python",
   "pygments_lexer": "ipython3",
   "version": "3.8.8"
  }
 },
 "nbformat": 4,
 "nbformat_minor": 5
}
