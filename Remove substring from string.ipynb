{
 "cells": [
  {
   "cell_type": "code",
   "execution_count": 1,
   "id": "29ec9579",
   "metadata": {},
   "outputs": [
    {
     "name": "stdout",
     "output_type": "stream",
     "text": [
      "Enter string :vishal\n",
      "Please enter a character you want to remove :a\n",
      "vishl\n"
     ]
    }
   ],
   "source": [
    "s = input(\"Enter string :\")\n",
    "char = input(\"Please enter a character you want to remove :\")\n",
    "print(s.replace(char,\"\"))"
   ]
  },
  {
   "cell_type": "code",
   "execution_count": 2,
   "id": "94d12077",
   "metadata": {},
   "outputs": [
    {
     "name": "stdout",
     "output_type": "stream",
     "text": [
      "Enter string :abcb\n",
      "Please enter a character you want to remove :b\n"
     ]
    },
    {
     "data": {
      "text/plain": [
       "'ac'"
      ]
     },
     "execution_count": 2,
     "metadata": {},
     "output_type": "execute_result"
    }
   ],
   "source": [
    "def remove(s,char):\n",
    "    return s.replace(char,\"\")\n",
    "\n",
    "s = input(\"Enter string :\")\n",
    "char = input(\"Please enter a character you want to remove :\")\n",
    "\n",
    "remove(s,char)"
   ]
  },
  {
   "cell_type": "markdown",
   "id": "bb97c599",
   "metadata": {},
   "source": [
    "### Remove consecutive duplicates\n"
   ]
  },
  {
   "cell_type": "code",
   "execution_count": 1,
   "id": "2a0d0dca",
   "metadata": {},
   "outputs": [
    {
     "name": "stdout",
     "output_type": "stream",
     "text": [
      "abbaacddcc\n",
      "abacdc\n"
     ]
    }
   ],
   "source": [
    "string = input()\n",
    "new_string = string[0]           # New String with consecutive duplicates removed\n",
    "\n",
    "for char in string:\n",
    "    if new_string[-1] != char:   # Last digit of new string compared to the character in string\n",
    "        new_string += char       # If it is equal means duplicates are there and we should not add that character into our new string \n",
    "\n",
    "print(new_string)"
   ]
  },
  {
   "cell_type": "code",
   "execution_count": null,
   "id": "af925882",
   "metadata": {},
   "outputs": [],
   "source": []
  }
 ],
 "metadata": {
  "kernelspec": {
   "display_name": "Python 3",
   "language": "python",
   "name": "python3"
  },
  "language_info": {
   "codemirror_mode": {
    "name": "ipython",
    "version": 3
   },
   "file_extension": ".py",
   "mimetype": "text/x-python",
   "name": "python",
   "nbconvert_exporter": "python",
   "pygments_lexer": "ipython3",
   "version": "3.8.8"
  }
 },
 "nbformat": 4,
 "nbformat_minor": 5
}
