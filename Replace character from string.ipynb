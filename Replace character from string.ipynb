{
 "cells": [
  {
   "cell_type": "markdown",
   "id": "3d43b6e9",
   "metadata": {},
   "source": [
    "### Replace character from string by giving character"
   ]
  },
  {
   "cell_type": "code",
   "execution_count": 4,
   "id": "87bc5cf1",
   "metadata": {},
   "outputs": [
    {
     "name": "stdout",
     "output_type": "stream",
     "text": [
      "Enter String : visgal\n",
      "Enter chracter you want to replace : g\n",
      "Enter New character : h\n",
      "Now String :  vishal\n"
     ]
    }
   ],
   "source": [
    "string = input(\"Enter String : \")\n",
    "character = input(\"Enter chracter you want to replace : \")\n",
    "replace = input(\"Enter New character : \")\n",
    "\n",
    "def ReplaceCharacter(string, character, replace):\n",
    "    NewString = ''\n",
    "    for i in range(len(string)):\n",
    "        if string[i] == character:\n",
    "            NewString += replace\n",
    "        else:\n",
    "            NewString += string[i]\n",
    "            \n",
    "    return NewString\n",
    "\n",
    "result = ReplaceCharacter(string, character, replace)\n",
    "print(\"Now String : \",result)"
   ]
  },
  {
   "cell_type": "markdown",
   "id": "42c87dba",
   "metadata": {},
   "source": [
    "### Replace character from string by giving position"
   ]
  },
  {
   "cell_type": "code",
   "execution_count": 6,
   "id": "4621fb73",
   "metadata": {},
   "outputs": [
    {
     "name": "stdout",
     "output_type": "stream",
     "text": [
      "Enter String : vishaj\n",
      "Enter position of chracter you want to replace : 5\n",
      "Enter New character : l\n",
      "vishal\n"
     ]
    }
   ],
   "source": [
    "string = input(\"Enter String : \")\n",
    "position = int(input(\"Enter position of chracter you want to replace : \"))\n",
    "replace = input(\"Enter New character : \")\n",
    "\n",
    "string = string[:position] + replace + string[position+1:]\n",
    "print(string)"
   ]
  },
  {
   "cell_type": "code",
   "execution_count": 10,
   "id": "366f9022",
   "metadata": {},
   "outputs": [
    {
     "name": "stdout",
     "output_type": "stream",
     "text": [
      "Enter String : vishal\n",
      "Enter position of chracter you want to replace : 3\n",
      "Enter New character : A\n"
     ]
    },
    {
     "ename": "TypeError",
     "evalue": "'str' object is not callable",
     "output_type": "error",
     "traceback": [
      "\u001b[1;31m---------------------------------------------------------------------------\u001b[0m",
      "\u001b[1;31mTypeError\u001b[0m                                 Traceback (most recent call last)",
      "\u001b[1;32m<ipython-input-10-b01068646022>\u001b[0m in \u001b[0;36m<module>\u001b[1;34m\u001b[0m\n\u001b[0;32m      7\u001b[0m \u001b[0mreplace\u001b[0m \u001b[1;33m=\u001b[0m \u001b[0minput\u001b[0m\u001b[1;33m(\u001b[0m\u001b[1;34m\"Enter New character : \"\u001b[0m\u001b[1;33m)\u001b[0m\u001b[1;33m\u001b[0m\u001b[1;33m\u001b[0m\u001b[0m\n\u001b[0;32m      8\u001b[0m \u001b[1;33m\u001b[0m\u001b[0m\n\u001b[1;32m----> 9\u001b[1;33m \u001b[0mnew_string\u001b[0m \u001b[1;33m=\u001b[0m \u001b[0mreplace\u001b[0m\u001b[1;33m(\u001b[0m\u001b[0mstring\u001b[0m\u001b[1;33m)\u001b[0m\u001b[1;33m\u001b[0m\u001b[1;33m\u001b[0m\u001b[0m\n\u001b[0m\u001b[0;32m     10\u001b[0m \u001b[0mprint\u001b[0m\u001b[1;33m(\u001b[0m\u001b[0mnew_string\u001b[0m\u001b[1;33m)\u001b[0m\u001b[1;33m\u001b[0m\u001b[1;33m\u001b[0m\u001b[0m\n",
      "\u001b[1;31mTypeError\u001b[0m: 'str' object is not callable"
     ]
    }
   ],
   "source": [
    "def replace(s,p,r):\n",
    "    ns = s[:p] + r + s[p+1:]\n",
    "    return ns\n",
    "\n",
    "string = input(\"Enter String : \")\n",
    "position = int(input(\"Enter position of chracter you want to replace : \"))\n",
    "replace = input(\"Enter New character : \")\n",
    "\n",
    "new_string = replace(string)\n",
    "print(new_string)"
   ]
  },
  {
   "cell_type": "code",
   "execution_count": null,
   "id": "7077ef62",
   "metadata": {},
   "outputs": [],
   "source": []
  }
 ],
 "metadata": {
  "kernelspec": {
   "display_name": "Python 3",
   "language": "python",
   "name": "python3"
  },
  "language_info": {
   "codemirror_mode": {
    "name": "ipython",
    "version": 3
   },
   "file_extension": ".py",
   "mimetype": "text/x-python",
   "name": "python",
   "nbconvert_exporter": "python",
   "pygments_lexer": "ipython3",
   "version": "3.8.8"
  }
 },
 "nbformat": 4,
 "nbformat_minor": 5
}
