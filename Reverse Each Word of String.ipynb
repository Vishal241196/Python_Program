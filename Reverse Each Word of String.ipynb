{
 "cells": [
  {
   "cell_type": "markdown",
   "id": "6df888db",
   "metadata": {},
   "source": [
    "### Reverse each word of string"
   ]
  },
  {
   "cell_type": "code",
   "execution_count": 1,
   "id": "ac3f01c6",
   "metadata": {},
   "outputs": [
    {
     "name": "stdout",
     "output_type": "stream",
     "text": [
      "bdjwbd bid\n",
      "dbwjdb dib \n"
     ]
    }
   ],
   "source": [
    "string = input()\n",
    "\n",
    "words = string.split()\n",
    "words_new = \"\"\n",
    "\n",
    "for word in words:\n",
    "    for char in range(len(word)-1, -1, -1):\n",
    "        words_new += word[char]\n",
    "    words_new += \" \"\n",
    "    \n",
    "print(words_new)\n"
   ]
  },
  {
   "cell_type": "code",
   "execution_count": 2,
   "id": "111b8067",
   "metadata": {},
   "outputs": [
    {
     "name": "stdout",
     "output_type": "stream",
     "text": [
      "abc def\n",
      "cba fed \n"
     ]
    }
   ],
   "source": [
    "\n",
    "string = input()\n",
    "words = string.split()\n",
    "\n",
    "new_word = \"\"\n",
    "\n",
    "for word in words:\n",
    "    word = word[::-1]\n",
    "    new_word += word + \" \"\n",
    "    \n",
    "print(new_word)"
   ]
  },
  {
   "cell_type": "code",
   "execution_count": null,
   "id": "ed0b471b",
   "metadata": {},
   "outputs": [],
   "source": []
  }
 ],
 "metadata": {
  "kernelspec": {
   "display_name": "Python 3",
   "language": "python",
   "name": "python3"
  },
  "language_info": {
   "codemirror_mode": {
    "name": "ipython",
    "version": 3
   },
   "file_extension": ".py",
   "mimetype": "text/x-python",
   "name": "python",
   "nbconvert_exporter": "python",
   "pygments_lexer": "ipython3",
   "version": "3.8.8"
  }
 },
 "nbformat": 4,
 "nbformat_minor": 5
}
