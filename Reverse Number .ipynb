{
 "cells": [
  {
   "cell_type": "markdown",
   "id": "3f624fbe",
   "metadata": {},
   "source": [
    "### Python program to reverse a integer number"
   ]
  },
  {
   "cell_type": "code",
   "execution_count": 1,
   "id": "9f9aad3d",
   "metadata": {},
   "outputs": [
    {
     "name": "stdout",
     "output_type": "stream",
     "text": [
      "please give a number : 123\n",
      "before reverse your numeber is : 123\n",
      "After reverse : 321\n"
     ]
    }
   ],
   "source": [
    "n = int(input(\"please give a number : \"))\n",
    "print(\"before reverse your numeber is :\",n)\n",
    "reverse = 0\n",
    "while n!=0:\n",
    "    reverse = reverse*10 + n%10       \n",
    "    n = (n//10)\n",
    "print(\"After reverse :\",reverse)"
   ]
  },
  {
   "cell_type": "code",
   "execution_count": 2,
   "id": "f1d65f13",
   "metadata": {},
   "outputs": [
    {
     "name": "stdout",
     "output_type": "stream",
     "text": [
      "please give a number : 123\n",
      "before reverse your numeber is : 123\n",
      "After reverse : 321\n"
     ]
    }
   ],
   "source": [
    "def reverse(n):\n",
    "    reverse = 0\n",
    "    while n!=0:\n",
    "        reverse = reverse*10 + n%10       \n",
    "        n = (n//10)\n",
    "    return reverse\n",
    "n = int(input(\"please give a number : \"))\n",
    "print(\"before reverse your numeber is :\",n)\n",
    "print(\"After reverse :\",reverse(n))"
   ]
  },
  {
   "cell_type": "code",
   "execution_count": null,
   "id": "9e7e3c84",
   "metadata": {},
   "outputs": [],
   "source": []
  }
 ],
 "metadata": {
  "kernelspec": {
   "display_name": "Python 3",
   "language": "python",
   "name": "python3"
  },
  "language_info": {
   "codemirror_mode": {
    "name": "ipython",
    "version": 3
   },
   "file_extension": ".py",
   "mimetype": "text/x-python",
   "name": "python",
   "nbconvert_exporter": "python",
   "pygments_lexer": "ipython3",
   "version": "3.8.8"
  }
 },
 "nbformat": 4,
 "nbformat_minor": 5
}
