{
 "cells": [
  {
   "cell_type": "markdown",
   "id": "682af5fe",
   "metadata": {},
   "source": [
    "### Reverse string"
   ]
  },
  {
   "cell_type": "code",
   "execution_count": 1,
   "id": "a527f476",
   "metadata": {},
   "outputs": [
    {
     "name": "stdout",
     "output_type": "stream",
     "text": [
      "please give a string : abc\n",
      "The original string  is : abc\n",
      "The reversed string(using extended slice syntax) is : cba\n"
     ]
    }
   ],
   "source": [
    "s = input(\"please give a string : \")\n",
    "  \n",
    "print(\"The original string  is : \",end=\"\")\n",
    "print(s)\n",
    "\n",
    "s = s[::-1]\n",
    "    \n",
    "print(\"The reversed string(using extended slice syntax) is : \",end=\"\")\n",
    "print(s)"
   ]
  },
  {
   "cell_type": "code",
   "execution_count": 3,
   "id": "a7f8e148",
   "metadata": {},
   "outputs": [
    {
     "name": "stdout",
     "output_type": "stream",
     "text": [
      "please give a string : abcd\n",
      "The original string  is : abcd\n",
      "The reversed string(using extended slice syntax) is : dcba\n"
     ]
    }
   ],
   "source": [
    "# Function to reverse a string\n",
    "def reverse(s):\n",
    "    s = s[::-1]\n",
    "    return s\n",
    "  \n",
    "s = input(\"please give a string : \")\n",
    "  \n",
    "print(\"The original string  is : \",end=\"\")\n",
    "print(s)\n",
    "  \n",
    "print(\"The reversed string(using extended slice syntax) is : \",end=\"\")\n",
    "print(reverse(s))"
   ]
  }
 ],
 "metadata": {
  "kernelspec": {
   "display_name": "Python 3",
   "language": "python",
   "name": "python3"
  },
  "language_info": {
   "codemirror_mode": {
    "name": "ipython",
    "version": 3
   },
   "file_extension": ".py",
   "mimetype": "text/x-python",
   "name": "python",
   "nbconvert_exporter": "python",
   "pygments_lexer": "ipython3",
   "version": "3.8.8"
  }
 },
 "nbformat": 4,
 "nbformat_minor": 5
}
