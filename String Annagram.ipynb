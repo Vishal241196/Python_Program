{
 "cells": [
  {
   "cell_type": "code",
   "execution_count": 2,
   "id": "f3c20a52",
   "metadata": {},
   "outputs": [
    {
     "name": "stdout",
     "output_type": "stream",
     "text": [
      "Enter 1st String :sub\n",
      "Enter 2nd String :bus\n",
      "['b', 's', 'u']\n",
      "['b', 's', 'u']\n",
      "Given String is Anagram\n"
     ]
    }
   ],
   "source": [
    "def anagramcheck(str1,str2):\n",
    "    if(sorted(str1)==sorted(str2)):\n",
    "        return True\n",
    "    else:\n",
    "        return False\n",
    "\n",
    "str1 = input(\"Enter 1st String :\")\n",
    "str2 = input(\"Enter 2nd String :\")\n",
    "print(sorted(str1))\n",
    "print(sorted(str2))\n",
    "\n",
    "if anagramcheck(str1,str2):\n",
    "    print(\"Given String is Anagram\")\n",
    "else:\n",
    "    print(\"Given String is not Anagram\")"
   ]
  },
  {
   "cell_type": "code",
   "execution_count": 1,
   "id": "a4b40ee6",
   "metadata": {},
   "outputs": [
    {
     "name": "stdout",
     "output_type": "stream",
     "text": [
      "Enter 1st String :yczaxb\n",
      "Enter 2nd String :190728\n",
      "['a', 'b', 'c', 'x', 'y', 'z']\n",
      "['0', '1', '2', '7', '8', '9']\n",
      "Given String is not Anagram\n"
     ]
    }
   ],
   "source": [
    "str1 = input(\"Enter 1st String :\")\n",
    "str2 = input(\"Enter 2nd String :\")\n",
    "\n",
    "print(sorted(str1))\n",
    "print(sorted(str2))\n",
    "if(sorted(str1)==sorted(str2)):\n",
    "        print(\"Given String is Anagram\")\n",
    "else:\n",
    "    print(\"Given String is not Anagram\")\n"
   ]
  },
  {
   "cell_type": "code",
   "execution_count": null,
   "id": "09b3c46c",
   "metadata": {},
   "outputs": [],
   "source": []
  }
 ],
 "metadata": {
  "kernelspec": {
   "display_name": "Python 3",
   "language": "python",
   "name": "python3"
  },
  "language_info": {
   "codemirror_mode": {
    "name": "ipython",
    "version": 3
   },
   "file_extension": ".py",
   "mimetype": "text/x-python",
   "name": "python",
   "nbconvert_exporter": "python",
   "pygments_lexer": "ipython3",
   "version": "3.8.8"
  }
 },
 "nbformat": 4,
 "nbformat_minor": 5
}
