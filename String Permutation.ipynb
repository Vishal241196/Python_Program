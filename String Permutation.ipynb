{
 "cells": [
  {
   "cell_type": "markdown",
   "id": "b460a5d9",
   "metadata": {},
   "source": [
    "### String Permutation\n",
    "- length of the strings should same and should contain same set of characters. Order of characters doesn't matter."
   ]
  },
  {
   "cell_type": "code",
   "execution_count": 9,
   "id": "225b5117",
   "metadata": {},
   "outputs": [
    {
     "name": "stdout",
     "output_type": "stream",
     "text": [
      "Enter string : abc\n",
      "abc\n",
      "acb\n",
      "bac\n",
      "bca\n",
      "cba\n",
      "cab\n",
      "None\n"
     ]
    }
   ],
   "source": [
    "def get_permutation(string, i):\n",
    "\n",
    "    if i == len(string):   \t \n",
    "        print(\"\".join(string))\n",
    "    else:\n",
    "        for j in range(i, len(string)):\n",
    "            words = [c for c in string]\n",
    "   \n",
    "            # swap\n",
    "            words[i], words[j] = words[j], words[i]   \t \n",
    "            get_permutation(words, i + 1)\n",
    "           \n",
    "        \n",
    "s = input(\"Enter string : \")\n",
    "print(get_permutation(s,0))"
   ]
  },
  {
   "cell_type": "code",
   "execution_count": 6,
   "id": "c2e7ac24",
   "metadata": {},
   "outputs": [
    {
     "name": "stdout",
     "output_type": "stream",
     "text": [
      "Enter string : abc\n",
      "Resultant permutations ['abc', 'acb', 'cab', 'cba', 'abc', 'acb']\n"
     ]
    }
   ],
   "source": [
    "s = input(\"Enter string : \")\n",
    "\n",
    "# Finding all permutation\n",
    "result = []\n",
    " \n",
    "def permute(data, i, length):\n",
    "    if i == length:\n",
    "        result.append(''.join(data) )\n",
    "    else:\n",
    "        for j in range(i, length):\n",
    "            # swap\n",
    "            data[i], data[j] = data[j], data[i]\n",
    "            permute(data, i + 1, length)\n",
    "permute(list(s), 0, len(s))\n",
    " \n",
    "# Printing result\n",
    "print(\"Resultant permutations\", str(result))\n"
   ]
  },
  {
   "cell_type": "code",
   "execution_count": 2,
   "id": "479d7360",
   "metadata": {},
   "outputs": [
    {
     "name": "stdout",
     "output_type": "stream",
     "text": [
      "Enter stringabc\n",
      "['abc', 'acb', 'bac', 'bca', 'cab', 'cba']\n"
     ]
    }
   ],
   "source": [
    "from itertools import permutations\n",
    "s = input(\"Enter string\")\n",
    "words = [''.join(p) for p in permutations(s)]\n",
    "print(words)"
   ]
  },
  {
   "cell_type": "markdown",
   "id": "a3b4ec1e",
   "metadata": {},
   "source": [
    "### String is permutation or not"
   ]
  },
  {
   "cell_type": "code",
   "execution_count": 3,
   "id": "f23e0506",
   "metadata": {},
   "outputs": [
    {
     "name": "stdout",
     "output_type": "stream",
     "text": [
      "vishal\n",
      "vsaihl\n",
      "Given strings are permutation\n"
     ]
    }
   ],
   "source": [
    "#Using frequency Array\n",
    "\n",
    "string1 = input()\n",
    "string2 = input()\n",
    "\n",
    "if len(string1) == len(string2):\n",
    "    li = [0]*256\n",
    "    origional = [0]*256\n",
    "    \n",
    "    for char in string1:            # Adding frequency of characters using first string\n",
    "        li[ord(char)] += 1\n",
    "        \n",
    "    for char in string2:            # Removing frequency of characters using Second string\n",
    "        li[ord(char)] -= 1\n",
    "        \n",
    "    if li == origional:\n",
    "        print(\"Given strings are permutation\")\n",
    "    else:\n",
    "        print(\"Given strings are not permutation\")\n",
    "        \n",
    "else:\n",
    "    print(\"Given strings are not permutation\")"
   ]
  },
  {
   "cell_type": "code",
   "execution_count": 4,
   "id": "51ade214",
   "metadata": {},
   "outputs": [
    {
     "name": "stdout",
     "output_type": "stream",
     "text": [
      "vishal\n",
      "nnaf\n",
      "Given strings are not permutation\n"
     ]
    }
   ],
   "source": [
    "#Using Dictionary\n",
    "    \n",
    "string1 = input()\n",
    "string2 = input()\n",
    "\n",
    "def Permutation(string1, string2):\n",
    "    frequency = {}\n",
    "    \n",
    "    for char in string1:\n",
    "        if char in frequency:\n",
    "            frequency[char] += 1\n",
    "        else:\n",
    "            frequency[char] = 1\n",
    "            \n",
    "    for char in string2:\n",
    "        if char in frequency:\n",
    "            if frequency[char] == 1:\n",
    "                del frequency[char]\n",
    "            else:\n",
    "                frequency[char] -= 1\n",
    "        else:\n",
    "            return False\n",
    "        \n",
    "    if frequency:\n",
    "        return False\n",
    "    else:\n",
    "        return True\n",
    "\n",
    "if Permutation(string1, string2):\n",
    "    print(\"Given strings are permutation\")\n",
    "else:\n",
    "    print(\"Given strings are not permutation\")"
   ]
  },
  {
   "cell_type": "code",
   "execution_count": null,
   "id": "b8edc089",
   "metadata": {},
   "outputs": [],
   "source": []
  }
 ],
 "metadata": {
  "kernelspec": {
   "display_name": "Python 3",
   "language": "python",
   "name": "python3"
  },
  "language_info": {
   "codemirror_mode": {
    "name": "ipython",
    "version": 3
   },
   "file_extension": ".py",
   "mimetype": "text/x-python",
   "name": "python",
   "nbconvert_exporter": "python",
   "pygments_lexer": "ipython3",
   "version": "3.8.8"
  }
 },
 "nbformat": 4,
 "nbformat_minor": 5
}
