{
 "cells": [
  {
   "cell_type": "code",
   "execution_count": 6,
   "id": "37794ecc",
   "metadata": {},
   "outputs": [
    {
     "name": "stdout",
     "output_type": "stream",
     "text": [
      "Enter String : vishal SOLANKI\n",
      "VISHAL solanki\n"
     ]
    }
   ],
   "source": [
    "def swap(string):\n",
    "    return string.swapcase()\n",
    "\n",
    "string = input(\"Enter String : \")\n",
    "print(swap(string))"
   ]
  },
  {
   "cell_type": "code",
   "execution_count": null,
   "id": "a1a4b974",
   "metadata": {},
   "outputs": [],
   "source": []
  }
 ],
 "metadata": {
  "kernelspec": {
   "display_name": "Python 3",
   "language": "python",
   "name": "python3"
  },
  "language_info": {
   "codemirror_mode": {
    "name": "ipython",
    "version": 3
   },
   "file_extension": ".py",
   "mimetype": "text/x-python",
   "name": "python",
   "nbconvert_exporter": "python",
   "pygments_lexer": "ipython3",
   "version": "3.8.8"
  }
 },
 "nbformat": 4,
 "nbformat_minor": 5
}
