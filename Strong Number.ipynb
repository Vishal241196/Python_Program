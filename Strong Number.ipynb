{
 "cells": [
  {
   "cell_type": "markdown",
   "id": "f0d0efaa",
   "metadata": {},
   "source": [
    "### Python program to check given number is strong or not\n",
    "-    Input : 145\n",
    "-   Output : Strong Number\n",
    "- Solution : 1!+4!+5! = 1+24+120 = 145"
   ]
  },
  {
   "cell_type": "code",
   "execution_count": 7,
   "id": "0e8a9491",
   "metadata": {
    "collapsed": true
   },
   "outputs": [
    {
     "name": "stdout",
     "output_type": "stream",
     "text": [
      "Enter number: 100\n",
      "100 is NOT STRONG.\n"
     ]
    }
   ],
   "source": [
    "# function to find factorial\n",
    "def fact(n):\n",
    "    f = 1\n",
    "    for i in range(1,n+1):\n",
    "        f *= i\n",
    "    return f\n",
    "\n",
    "# function to check strong\n",
    "def check_strong(num):\n",
    "    temp = num\n",
    "    sum = 0\n",
    "\n",
    "    while num:\n",
    "        rem= num%10\n",
    "        sum += fact(rem)\n",
    "        num //= 10\n",
    "\n",
    "    return sum == temp\n",
    "\n",
    "# Reading number\n",
    "num = int(input('Enter number: '))\n",
    "\n",
    "# Making decision\n",
    "if check_strong(num):\n",
    "    print('%d is STRONG.' %(num))\n",
    "else:\n",
    "    print('%d is NOT STRONG.' %(num))"
   ]
  },
  {
   "cell_type": "code",
   "execution_count": 3,
   "id": "b71238db",
   "metadata": {},
   "outputs": [
    {
     "name": "stdout",
     "output_type": "stream",
     "text": [
      "Enter a number:100\n",
      "100 Given number is not a strong number\n"
     ]
    }
   ],
   "source": [
    "# Variable to store sum of the numbers  \n",
    "sum=0  \n",
    "\n",
    "# Ask user to enter the number  \n",
    "num=int(input(\"Enter a number:\"))  \n",
    "\n",
    "# temporary variable  store copy of the original number  \n",
    "temp=num  \n",
    "\n",
    "# Using while loop  \n",
    "while(num):  \n",
    "    # intialize with 1  \n",
    "    i=1  \n",
    "    # fact variable with 1  \n",
    "    fact=1  \n",
    "    rem=num%10  \n",
    "    while(i<=rem):  \n",
    "        fact=fact*i   # Find factorial of each number  \n",
    "        i=i+1  \n",
    "    sum=sum+fact  \n",
    "    num=num//10  \n",
    "if(sum==temp):  \n",
    "    print(temp,\"Given number\",temp, \"is a strong number\")  \n",
    "else:  \n",
    "    print(temp,\"Given number\", \"is not a strong number\")"
   ]
  },
  {
   "cell_type": "code",
   "execution_count": null,
   "id": "249e25d9",
   "metadata": {},
   "outputs": [],
   "source": []
  }
 ],
 "metadata": {
  "kernelspec": {
   "display_name": "Python 3",
   "language": "python",
   "name": "python3"
  },
  "language_info": {
   "codemirror_mode": {
    "name": "ipython",
    "version": 3
   },
   "file_extension": ".py",
   "mimetype": "text/x-python",
   "name": "python",
   "nbconvert_exporter": "python",
   "pygments_lexer": "ipython3",
   "version": "3.8.8"
  }
 },
 "nbformat": 4,
 "nbformat_minor": 5
}
