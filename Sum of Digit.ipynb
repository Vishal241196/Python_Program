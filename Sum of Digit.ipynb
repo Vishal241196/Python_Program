{
 "cells": [
  {
   "cell_type": "markdown",
   "id": "bf31cad9",
   "metadata": {},
   "source": [
    "### Using Recursive methord"
   ]
  },
  {
   "cell_type": "code",
   "execution_count": 4,
   "id": "99a14aac",
   "metadata": {},
   "outputs": [
    {
     "name": "stdout",
     "output_type": "stream",
     "text": [
      "Enter Number154\n",
      "Sum of Digit of Number 154 : 10\n"
     ]
    }
   ],
   "source": [
    "n = int(input(\"Enter Number\"))\n",
    "\n",
    "def sum_of_digit(n):\n",
    "    if n==0:\n",
    "        return 0\n",
    "    return (n%10 + sum_of_digit(int(n/10)))\n",
    "\n",
    "result = sum_of_digit(n)\n",
    "print(\"Sum of Digit of Number\",n,\":\",result)"
   ]
  },
  {
   "cell_type": "markdown",
   "id": "5a27f995",
   "metadata": {},
   "source": [
    "### Normal methord"
   ]
  },
  {
   "cell_type": "code",
   "execution_count": 3,
   "id": "c469e53b",
   "metadata": {},
   "outputs": [
    {
     "name": "stdout",
     "output_type": "stream",
     "text": [
      "Enter Number154\n",
      "Sum of Digit of Number 154 : 10\n"
     ]
    }
   ],
   "source": [
    "n = int(input(\"Enter Number\"))\n",
    "sum = 0\n",
    "temp = n\n",
    "while temp > 0:\n",
    "    sum += temp%10\n",
    "    temp //= 10\n",
    "print(\"Sum of Digit of Number\",n,\":\",sum)  "
   ]
  },
  {
   "cell_type": "code",
   "execution_count": null,
   "id": "d92f83ac",
   "metadata": {},
   "outputs": [],
   "source": []
  }
 ],
 "metadata": {
  "kernelspec": {
   "display_name": "Python 3",
   "language": "python",
   "name": "python3"
  },
  "language_info": {
   "codemirror_mode": {
    "name": "ipython",
    "version": 3
   },
   "file_extension": ".py",
   "mimetype": "text/x-python",
   "name": "python",
   "nbconvert_exporter": "python",
   "pygments_lexer": "ipython3",
   "version": "3.8.8"
  }
 },
 "nbformat": 4,
 "nbformat_minor": 5
}
