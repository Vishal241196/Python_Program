{
 "cells": [
  {
   "cell_type": "markdown",
   "id": "2dd946eb",
   "metadata": {},
   "source": [
    "### Sum of even and odd digit of a number"
   ]
  },
  {
   "cell_type": "code",
   "execution_count": 7,
   "id": "6494ba47",
   "metadata": {},
   "outputs": [
    {
     "name": "stdout",
     "output_type": "stream",
     "text": [
      "Enter Number467\n",
      "Sum of Even Digit of a Number 467 : 10\n",
      "Sum of Odd Digit of a Number 467 : 7\n"
     ]
    }
   ],
   "source": [
    "n = int(input(\"Enter Number\"))\n",
    "sum_even, sum_odd = 0,0\n",
    "temp = n\n",
    "while temp!=0:\n",
    "    least_digit = temp%10\n",
    "    significant_digit = temp//10\n",
    "    temp = significant_digit\n",
    "    \n",
    "    if least_digit % 2 == 0:\n",
    "        sum_even += least_digit\n",
    "    else:\n",
    "        sum_odd += least_digit\n",
    "\n",
    "print(\"Sum of Even Digit of a Number\",n,\":\",sum_even)\n",
    "print(\"Sum of Odd Digit of a Number\",n,\":\",sum_odd)"
   ]
  },
  {
   "cell_type": "markdown",
   "id": "d2abaf25",
   "metadata": {},
   "source": [
    "##### Using Recursion"
   ]
  },
  {
   "cell_type": "markdown",
   "id": "797cfd83",
   "metadata": {},
   "source": [
    "### Sum of even digit of a number"
   ]
  },
  {
   "cell_type": "code",
   "execution_count": 10,
   "id": "d631d17f",
   "metadata": {},
   "outputs": [
    {
     "name": "stdout",
     "output_type": "stream",
     "text": [
      "Enter Number12445\n",
      "Sum of Even Digit of a Number 12445 : 10\n"
     ]
    }
   ],
   "source": [
    "n = int(input(\"Enter Number\"))\n",
    "sum_even = 0\n",
    "temp = n\n",
    "while temp!=0:\n",
    "    least_digit = temp%10\n",
    "    significant_digit = temp//10\n",
    "    temp = significant_digit\n",
    "    \n",
    "    if least_digit % 2 == 0:\n",
    "        sum_even += least_digit\n",
    "    else:\n",
    "        pass\n",
    "\n",
    "print(\"Sum of Even Digit of a Number\",n,\":\",sum_even)"
   ]
  },
  {
   "cell_type": "markdown",
   "id": "dad273e2",
   "metadata": {},
   "source": [
    "##### Using Recursion"
   ]
  },
  {
   "cell_type": "code",
   "execution_count": 20,
   "id": "38913e82",
   "metadata": {},
   "outputs": [
    {
     "name": "stdout",
     "output_type": "stream",
     "text": [
      "Enter A Number : 4653\n",
      "Sum of Even Digit of Number 4653 : 10\n"
     ]
    }
   ],
   "source": [
    "n = int(input(\"Enter A Number : \"))\n",
    "\n",
    "def sum_of_even_digit(n):\n",
    "    if n==0:\n",
    "        return 0\n",
    "    else:\n",
    "        if n % 2 == 0:\n",
    "            return (n%10 + sum_of_even_digit(int(n/10)))\n",
    "        else:\n",
    "            return (sum_of_even_digit(int(n/10)))\n",
    "    \n",
    "result = sum_of_even_digit(n)\n",
    "print(\"Sum of Even Digit of Number\",n,\":\",result)"
   ]
  },
  {
   "cell_type": "markdown",
   "id": "e711bb6d",
   "metadata": {},
   "source": [
    "### Sum of odd digit of a number"
   ]
  },
  {
   "cell_type": "code",
   "execution_count": 11,
   "id": "7cbb9f85",
   "metadata": {},
   "outputs": [
    {
     "name": "stdout",
     "output_type": "stream",
     "text": [
      "Enter Number5546\n",
      "Sum of Odd Digit of a Number 5546 : 10\n"
     ]
    }
   ],
   "source": [
    "n = int(input(\"Enter Number\"))\n",
    "sum_odd = 0\n",
    "temp = n\n",
    "while temp!=0:\n",
    "    least_digit = temp%10\n",
    "    significant_digit = temp//10\n",
    "    temp = significant_digit\n",
    "    \n",
    "    if least_digit % 2 == 0:\n",
    "        pass\n",
    "    else:\n",
    "        sum_odd += least_digit\n",
    "\n",
    "print(\"Sum of Odd Digit of a Number\",n,\":\",sum_odd)"
   ]
  },
  {
   "cell_type": "markdown",
   "id": "71a9c2c4",
   "metadata": {},
   "source": [
    "##### Using Recursion"
   ]
  },
  {
   "cell_type": "code",
   "execution_count": 22,
   "id": "14029e41",
   "metadata": {},
   "outputs": [
    {
     "name": "stdout",
     "output_type": "stream",
     "text": [
      "Enter A Number : 3546\n",
      "Sum of Odd Digit of Number 3546 : 8\n"
     ]
    }
   ],
   "source": [
    "n = int(input(\"Enter A Number : \"))\n",
    "\n",
    "def sum_of_odd_digit(n):\n",
    "    if n==0:\n",
    "        return 0\n",
    "    else:\n",
    "        if n % 2 != 0:\n",
    "            return (n%10 + sum_of_odd_digit(int(n/10)))\n",
    "        else:\n",
    "            return (sum_of_odd_digit(int(n/10)))\n",
    "    \n",
    "result = sum_of_odd_digit(n)\n",
    "print(\"Sum of Odd Digit of Number\",n,\":\",result)"
   ]
  },
  {
   "cell_type": "code",
   "execution_count": null,
   "id": "c6dca889",
   "metadata": {},
   "outputs": [],
   "source": []
  }
 ],
 "metadata": {
  "kernelspec": {
   "display_name": "Python 3",
   "language": "python",
   "name": "python3"
  },
  "language_info": {
   "codemirror_mode": {
    "name": "ipython",
    "version": 3
   },
   "file_extension": ".py",
   "mimetype": "text/x-python",
   "name": "python",
   "nbconvert_exporter": "python",
   "pygments_lexer": "ipython3",
   "version": "3.8.8"
  }
 },
 "nbformat": 4,
 "nbformat_minor": 5
}
