{
 "cells": [
  {
   "cell_type": "markdown",
   "id": "7f25509b",
   "metadata": {},
   "source": [
    "### Python program to swap two number without using third variable"
   ]
  },
  {
   "cell_type": "code",
   "execution_count": 1,
   "id": "5bbef8bc",
   "metadata": {},
   "outputs": [
    {
     "name": "stdout",
     "output_type": "stream",
     "text": [
      "please give first number a: 2\n",
      "please give second number b: 3\n",
      "After swapping\n",
      "value of a is :  3\n",
      "value of b is :  2\n"
     ]
    }
   ],
   "source": [
    "a = int(input(\"please give first number a: \"))\n",
    "b = int(input(\"please give second number b: \"))\n",
    "a=a-b\n",
    "b=a+b\n",
    "a=b-a\n",
    "print(\"After swapping\")\n",
    "print(\"value of a is : \", a);\n",
    "print(\"value of b is : \", b); "
   ]
  },
  {
   "cell_type": "markdown",
   "id": "d5430d99",
   "metadata": {},
   "source": [
    "#### Swapping of two numbers using third variable in Python language"
   ]
  },
  {
   "cell_type": "code",
   "execution_count": 2,
   "id": "dd338a7f",
   "metadata": {},
   "outputs": [
    {
     "name": "stdout",
     "output_type": "stream",
     "text": [
      "please give first number a: 2\n",
      "please give second number b: 4\n",
      "After swapping\n",
      "value of a is :  4\n",
      "value of b is :  2\n"
     ]
    }
   ],
   "source": [
    "a = int(input(\"please give first number a: \"))\n",
    "b = int(input(\"please give second number b: \"))\n",
    "c=a\n",
    "a=b\n",
    "b=c\n",
    "print(\"After swapping\")\n",
    "print(\"value of a is : \", a);\n",
    "print(\"value of b is : \", b); "
   ]
  },
  {
   "cell_type": "markdown",
   "id": "4bf64c87",
   "metadata": {},
   "source": [
    "### Swap 1st and last int number in a list"
   ]
  },
  {
   "cell_type": "code",
   "execution_count": 3,
   "id": "e67eb6e5",
   "metadata": {},
   "outputs": [
    {
     "name": "stdout",
     "output_type": "stream",
     "text": [
      "please give number of element in a list: 2\n",
      "Enter element for list:3\n",
      "Enter element for list:4\n",
      "List Befor Swap : \n",
      "[3, 4]\n",
      "List After Swap : \n",
      "[4, 3]\n"
     ]
    }
   ],
   "source": [
    "a=[]\n",
    "n = int(input(\"please give number of element in a list: \"))\n",
    "for x in range(0,n):\n",
    "    element = int(input(\"Enter element for list:\"))\n",
    "    a.append(element)\n",
    "\n",
    "print(\"List Befor Swap : \")\n",
    "print(a)\n",
    "\n",
    "temp = a[0]\n",
    "a[0] = a[n-1]\n",
    "a[n-1] = temp\n",
    "\n",
    "print(\"List After Swap : \")\n",
    "print(a)"
   ]
  },
  {
   "cell_type": "code",
   "execution_count": null,
   "id": "92f13e7e",
   "metadata": {},
   "outputs": [],
   "source": []
  }
 ],
 "metadata": {
  "kernelspec": {
   "display_name": "Python 3",
   "language": "python",
   "name": "python3"
  },
  "language_info": {
   "codemirror_mode": {
    "name": "ipython",
    "version": 3
   },
   "file_extension": ".py",
   "mimetype": "text/x-python",
   "name": "python",
   "nbconvert_exporter": "python",
   "pygments_lexer": "ipython3",
   "version": "3.8.8"
  }
 },
 "nbformat": 4,
 "nbformat_minor": 5
}
