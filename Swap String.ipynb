{
 "cells": [
  {
   "cell_type": "markdown",
   "id": "ea0dc047",
   "metadata": {},
   "source": [
    "### String Swap"
   ]
  },
  {
   "cell_type": "code",
   "execution_count": 1,
   "id": "93a76697",
   "metadata": {},
   "outputs": [
    {
     "name": "stdout",
     "output_type": "stream",
     "text": [
      "please give first number a: vish\n",
      "please give second number b: VISH\n",
      "After swapping\n",
      "value of a is :  VISH\n",
      "value of b is :  vish\n"
     ]
    }
   ],
   "source": [
    "a = input(\"please give first number a: \")\n",
    "b = input(\"please give second number b: \")\n",
    "c=a\n",
    "a=b\n",
    "b=c\n",
    "print(\"After swapping\")\n",
    "print(\"value of a is : \", a);\n",
    "print(\"value of b is : \", b); "
   ]
  },
  {
   "cell_type": "code",
   "execution_count": 6,
   "id": "a516a4bd",
   "metadata": {},
   "outputs": [
    {
     "name": "stdout",
     "output_type": "stream",
     "text": [
      "please give number of element in a list: 4\n",
      "Enter element for list:dt\n",
      "Enter element for list:hy\n",
      "Enter element for list:ij\n",
      "Enter element for list:kk\n",
      "List Befor Swap : \n",
      "['dt', 'hy', 'ij', 'kk']\n",
      "List After Swap : \n",
      "['kk', 'hy', 'ij', 'dt']\n"
     ]
    }
   ],
   "source": [
    "a=[]\n",
    "n = int(input(\"please give number of element in a list: \"))\n",
    "for x in range(0,n):\n",
    "    element = input(\"Enter element for list:\")\n",
    "    a.append(element)\n",
    "\n",
    "print(\"List Befor Swap : \")\n",
    "print(a)\n",
    "\n",
    "temp = a[0]\n",
    "a[0] = a[n-1]\n",
    "a[n-1] = temp\n",
    "\n",
    "print(\"List After Swap : \")\n",
    "print(a)"
   ]
  },
  {
   "cell_type": "code",
   "execution_count": null,
   "id": "68c129aa",
   "metadata": {},
   "outputs": [],
   "source": []
  }
 ],
 "metadata": {
  "kernelspec": {
   "display_name": "Python 3",
   "language": "python",
   "name": "python3"
  },
  "language_info": {
   "codemirror_mode": {
    "name": "ipython",
    "version": 3
   },
   "file_extension": ".py",
   "mimetype": "text/x-python",
   "name": "python",
   "nbconvert_exporter": "python",
   "pygments_lexer": "ipython3",
   "version": "3.8.8"
  }
 },
 "nbformat": 4,
 "nbformat_minor": 5
}
