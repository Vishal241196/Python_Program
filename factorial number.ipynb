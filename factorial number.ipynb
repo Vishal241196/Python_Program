{
 "cells": [
  {
   "cell_type": "markdown",
   "id": "d6c3aa25",
   "metadata": {},
   "source": [
    "- Input = 5\n",
    "- Output = 120\n",
    "- Solution = 5*4*3*2*1 = 120"
   ]
  },
  {
   "cell_type": "code",
   "execution_count": 12,
   "id": "379df615",
   "metadata": {},
   "outputs": [
    {
     "name": "stdout",
     "output_type": "stream",
     "text": [
      "enter any number: -4\n",
      "Can't calculate factorial for -ive number's\n"
     ]
    }
   ],
   "source": [
    "num = int(input(\"enter any number: \"))\n",
    "fact = 1\n",
    "if num < 0:\n",
    "    print(\"Can't calculate factorial for -ive number's\")\n",
    "else:\n",
    "    while(num>=0):\n",
    "        fact *=num\n",
    "        num -= 1\n",
    "    print(fact)"
   ]
  },
  {
   "cell_type": "code",
   "execution_count": null,
   "id": "d97e817f",
   "metadata": {},
   "outputs": [],
   "source": []
  },
  {
   "cell_type": "code",
   "execution_count": null,
   "id": "9c431917",
   "metadata": {},
   "outputs": [],
   "source": []
  }
 ],
 "metadata": {
  "kernelspec": {
   "display_name": "Python 3",
   "language": "python",
   "name": "python3"
  },
  "language_info": {
   "codemirror_mode": {
    "name": "ipython",
    "version": 3
   },
   "file_extension": ".py",
   "mimetype": "text/x-python",
   "name": "python",
   "nbconvert_exporter": "python",
   "pygments_lexer": "ipython3",
   "version": "3.8.8"
  }
 },
 "nbformat": 4,
 "nbformat_minor": 5
}
